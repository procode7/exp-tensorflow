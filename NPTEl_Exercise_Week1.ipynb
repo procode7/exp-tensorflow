{
  "nbformat": 4,
  "nbformat_minor": 0,
  "metadata": {
    "colab": {
      "name": "NPTEl_Exercise_Week1.ipynb",
      "version": "0.3.2",
      "provenance": [],
      "collapsed_sections": [],
      "include_colab_link": true
    },
    "kernelspec": {
      "name": "python3",
      "display_name": "Python 3"
    }
  },
  "cells": [
    {
      "cell_type": "markdown",
      "metadata": {
        "id": "view-in-github",
        "colab_type": "text"
      },
      "source": [
        "<a href=\"https://colab.research.google.com/github/procode7/exp-tensorflow/blob/master/NPTEl_Exercise_Week1.ipynb\" target=\"_parent\"><img src=\"https://colab.research.google.com/assets/colab-badge.svg\" alt=\"Open In Colab\"/></a>"
      ]
    },
    {
      "cell_type": "code",
      "metadata": {
        "id": "m0-QJGdxhT4K",
        "colab_type": "code",
        "colab": {}
      },
      "source": [
        "data = [100, 50, 400, 300, 200]"
      ],
      "execution_count": 0,
      "outputs": []
    },
    {
      "cell_type": "code",
      "metadata": {
        "id": "Rna3CMoqhhx5",
        "colab_type": "code",
        "colab": {}
      },
      "source": [
        "mean_data = sum(data) / len(data) "
      ],
      "execution_count": 0,
      "outputs": []
    },
    {
      "cell_type": "code",
      "metadata": {
        "id": "6jVIBTclhqBl",
        "colab_type": "code",
        "colab": {
          "base_uri": "https://localhost:8080/",
          "height": 34
        },
        "outputId": "cef15a98-8a97-44a0-8ff1-73e3fa4c39fd"
      },
      "source": [
        "import numpy as np\n",
        "z_score = [round((x - np.mean(data)) / np.std(data) ,2) for x in data ]\n",
        "z_score"
      ],
      "execution_count": 27,
      "outputs": [
        {
          "output_type": "execute_result",
          "data": {
            "text/plain": [
              "[-0.86, -1.25, 1.48, 0.7, -0.08]"
            ]
          },
          "metadata": {
            "tags": []
          },
          "execution_count": 27
        }
      ]
    },
    {
      "cell_type": "code",
      "metadata": {
        "id": "lFj0JofbiQyf",
        "colab_type": "code",
        "colab": {
          "base_uri": "https://localhost:8080/",
          "height": 34
        },
        "outputId": "5dd3ddd6-90ed-4d20-c491-031aada36e64"
      },
      "source": [
        "min_max = [round((x - min(data)) / (max(data) - min(data)),2) for x in data ]\n",
        "min_max"
      ],
      "execution_count": 28,
      "outputs": [
        {
          "output_type": "execute_result",
          "data": {
            "text/plain": [
              "[0.14, 0.0, 1.0, 0.71, 0.43]"
            ]
          },
          "metadata": {
            "tags": []
          },
          "execution_count": 28
        }
      ]
    },
    {
      "cell_type": "code",
      "metadata": {
        "id": "8x8bZByLmszk",
        "colab_type": "code",
        "colab": {}
      },
      "source": [
        ""
      ],
      "execution_count": 0,
      "outputs": []
    }
  ]
}